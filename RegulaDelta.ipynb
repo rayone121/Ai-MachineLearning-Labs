{
 "cells": [
  {
   "cell_type": "code",
   "execution_count": 18,
   "outputs": [
    {
     "name": "stdout",
     "output_type": "stream",
     "text": [
      "\n",
      "Pattern-uri si raspunsuri:\n",
      "Pattern 1: [45 85], Raspunsuri: [-0.99999954 -1.          1.        ]\n",
      "Pattern 2: [50 43], Raspunsuri: [-0.99999995 -1.          1.        ]\n",
      "Pattern 3: [40 80], Raspunsuri: [-0.99999744 -1.          1.        ]\n",
      "Pattern 4: [55 42], Raspunsuri: [-0.99999999 -1.          1.        ]\n",
      "Pattern 5: [200  43], Raspunsuri: [-1.         -0.99636938  1.        ]\n",
      "Pattern 6: [48 40], Raspunsuri: [-0.99999989 -1.          1.        ]\n",
      "Pattern 7: [195  41], Raspunsuri: [-1.         -0.99168425  1.        ]\n",
      "Pattern 8: [43 87], Raspunsuri: [-0.99999909 -1.          1.        ]\n",
      "Pattern 9: [190  40], Raspunsuri: [-1.         -0.99101618  1.        ]\n"
     ]
    }
   ],
   "source": [
    "import numpy as np\n",
    "\n",
    "# Functia de activare bipolara\n",
    "def activation_function(net):\n",
    "    return 2 / (1 + np.exp(-net)) - 1\n",
    "\n",
    "# Setul de date\n",
    "patterns = np.array([\n",
    "    [45, 85, 1, -1, -1],\n",
    "    [50, 43, -1, 1, -1],\n",
    "    [40, 80, 1, -1, -1],\n",
    "    [55, 42, -1, 1, -1],\n",
    "    [200, 43, -1, -1, 1],\n",
    "    [48, 40, -1, 1, -1],\n",
    "    [195, 41, -1, -1, 1],\n",
    "    [43, 87, 1, -1, -1],\n",
    "    [190, 40, -1, -1, 1]\n",
    "])\n",
    "\n",
    "\n",
    "desired_outputs = np.array([\n",
    "    [-1, -1, 1],  # scaun\n",
    "    [1, -1, -1],  # masa\n",
    "    [-1, 1, -1],  # pat\n",
    "    [1, -1, -1],  # masa\n",
    "    [-1, -1, 1],  # pat\n",
    "    [1, -1, -1],  # masa\n",
    "    [-1, -1, 1],  # pat\n",
    "    [-1, -1, 1],  # scaun\n",
    "    [-1, -1, 1]   # pat\n",
    "])\n",
    "\n",
    "# Parametrii retelei\n",
    "M = 2  # Numarul de intrari \n",
    "K = 3  # Numarul de perceptroni\n",
    "c = 0.01  # Constanta de instruire \n",
    "Emax = 0.01  # Eroarea maxima\n",
    "epochs = 100  # Numarul maxim de epoci\n",
    "\n",
    "# Initializarea ponderilor\n",
    "weights = np.random.uniform(-1, 1, size=(K, M + 1))\n",
    "\n",
    "\n",
    "for epoch in range(epochs):\n",
    "    E = 0  # Eroare Totala\n",
    "\n",
    "    for i in range(len(patterns)):\n",
    "        # Pasul 2: Calculul iesirilor perceptronilor\n",
    "        net = np.dot(weights, patterns[i, :M + 1])\n",
    "        output = activation_function(net)\n",
    "\n",
    "        # Pasul 3: Actualizarea ponderilor\n",
    "        delta_weights = c * np.outer(desired_outputs[i] - output, (1 - output**2) * np.append(patterns[i, :M], 1))\n",
    "        weights += delta_weights\n",
    "\n",
    "        # Pasul 4: Calculul erorii cumulate\n",
    "        E += np.sum((desired_outputs[i] - output)**2)\n",
    "\n",
    "    if E < Emax:\n",
    "        break\n",
    "\n",
    "print(\"\\nPattern-uri si raspunsuri:\")\n",
    "for i in range(len(patterns)):\n",
    "    net = np.dot(weights, patterns[i, :M + 1])\n",
    "    output = activation_function(net)\n",
    "    print(f'Pattern {i + 1}: {patterns[i, :M]}, Raspunsuri: {output}')\n",
    "\n"
   ],
   "metadata": {
    "collapsed": false,
    "ExecuteTime": {
     "end_time": "2023-12-24T18:23:32.137440Z",
     "start_time": "2023-12-24T18:23:32.119970Z"
    }
   },
   "id": "99e07bc5a147a375"
  }
 ],
 "metadata": {
  "kernelspec": {
   "display_name": "Python 3",
   "language": "python",
   "name": "python3"
  },
  "language_info": {
   "codemirror_mode": {
    "name": "ipython",
    "version": 2
   },
   "file_extension": ".py",
   "mimetype": "text/x-python",
   "name": "python",
   "nbconvert_exporter": "python",
   "pygments_lexer": "ipython2",
   "version": "2.7.6"
  }
 },
 "nbformat": 4,
 "nbformat_minor": 5
}
