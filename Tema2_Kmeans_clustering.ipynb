{
 "cells": [
  {
   "cell_type": "code",
   "execution_count": 9,
   "outputs": [
    {
     "name": "stdout",
     "output_type": "stream",
     "text": [
      "Cluster 1 - Centroid: [76.82370614384851, 69.17133426626782]\n",
      "Points in Cluster 1:\n",
      " []\n",
      "------------------------\n",
      "Cluster 2 - Centroid: [195.0, 41.333333333333336]\n",
      "Points in Cluster 2:\n",
      " [[200  43]\n",
      " [195  41]\n",
      " [190  40]]\n",
      "------------------------\n",
      "Cluster 3 - Centroid: [46.833333333333336, 62.833333333333336]\n",
      "Points in Cluster 3:\n",
      " [[45 85]\n",
      " [50 43]\n",
      " [40 80]\n",
      " [55 42]\n",
      " [48 40]\n",
      " [43 87]]\n",
      "------------------------\n"
     ]
    }
   ],
   "source": [
    "import numpy as np\n",
    "\n",
    "class Kmeans_clustering:\n",
    "\n",
    "    def __init__(self, k=3):\n",
    "        self.k = k\n",
    "        self.centroids = None\n",
    "\n",
    "    @staticmethod\n",
    "    def euclidean_distance(data_points, centroids):\n",
    "        return np.sqrt(np.sum((centroids - data_points)**2,axis=1))\n",
    "\n",
    "    def fit(self, X, max_iter=200):\n",
    "        self.centroids = np.random.uniform(np.amin(X, axis=0), np.amax(X, axis=0),\n",
    "                                           size=(self.k, X.shape[1]))\n",
    "        for _ in range(max_iter):\n",
    "            y = []\n",
    "            for data_points in X:\n",
    "                distances = self.euclidean_distance(data_points, self.centroids)\n",
    "                cluster_number = np.argmin(distances)\n",
    "                y.append(cluster_number)\n",
    "\n",
    "            y = np.array(y)\n",
    "\n",
    "            cluster_indices = []\n",
    "\n",
    "            for i in range(self.k):\n",
    "                cluster_indices.append(np.argwhere(y == i).flatten())\n",
    "\n",
    "            cluster_centers = np.zeros_like(self.centroids)\n",
    "\n",
    "            for i, indices in enumerate(cluster_indices):\n",
    "                if len(indices) == 0:\n",
    "                    cluster_centers[i] = self.centroids[i]\n",
    "                else:\n",
    "                    cluster_centers[i] = np.mean(X[indices], axis=0)\n",
    "\n",
    "            if np.max(self.centroids - cluster_centers) < 0.0001:\n",
    "                break\n",
    "            else:\n",
    "                self.centroids = cluster_centers\n",
    "\n",
    "        for i, centroid in enumerate(self.centroids):\n",
    "            print(f\"Cluster {i + 1} - Centroid: {centroid.flatten().tolist()}\")\n",
    "            print(f\"Points in Cluster {i + 1}:\\n {X[y == i]}\")\n",
    "            print(\"------------------------\")\n",
    "\n",
    "        return y\n",
    "\n",
    "# Example usage\n",
    "data = np.array([\n",
    "    [45, 85],\n",
    "    [50, 43],\n",
    "    [40, 80],\n",
    "    [55, 42],\n",
    "    [200, 43],\n",
    "    [48, 40],\n",
    "    [195, 41],\n",
    "    [43, 87],\n",
    "    [190, 40]\n",
    "])\n",
    "\n",
    "kmeans = Kmeans_clustering(k=3)\n",
    "final_data = kmeans.fit(data)\n"
   ],
   "metadata": {
    "collapsed": false,
    "ExecuteTime": {
     "end_time": "2024-01-10T07:32:02.159382Z",
     "start_time": "2024-01-10T07:32:02.156372Z"
    }
   },
   "id": "4d49dc88898943c6"
  },
  {
   "cell_type": "code",
   "execution_count": 10,
   "outputs": [
    {
     "data": {
      "text/plain": "<Figure size 640x480 with 1 Axes>",
      "image/png": "[encoded data removed]"
     },
     "metadata": {},
     "output_type": "display_data"
    }
   ],
   "source": [
    "from matplotlib import pyplot as plt\n",
    "\n",
    "plt.scatter(data[:, 0], data[:, 1], c=final_data, label='Data Points')\n",
    "plt.scatter(kmeans.centroids[:, 0], kmeans.centroids[:, 1], c='red', marker='X', label='Centroids')\n",
    "plt.title('K-Means Clustering')\n",
    "plt.xlabel('X')\n",
    "plt.ylabel('Y')\n",
    "plt.legend()\n",
    "plt.show()\n"
   ],
   "metadata": {
    "collapsed": false,
    "ExecuteTime": {
     "end_time": "2024-01-10T07:32:02.224456Z",
     "start_time": "2024-01-10T07:32:02.163678Z"
    }
   },
   "id": "dfabd81bc54b80c4"
  }
 ],
 "metadata": {
  "kernelspec": {
   "display_name": "Python 3",
   "language": "python",
   "name": "python3"
  },
  "language_info": {
   "codemirror_mode": {
    "name": "ipython",
    "version": 2
   },
   "file_extension": ".py",
   "mimetype": "text/x-python",
   "name": "python",
   "nbconvert_exporter": "python",
   "pygments_lexer": "ipython2",
   "version": "2.7.6"
  }
 },
 "nbformat": 4,
 "nbformat_minor": 5
}
