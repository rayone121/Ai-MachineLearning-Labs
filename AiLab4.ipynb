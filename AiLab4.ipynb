{
 "cells": [
  {
   "cell_type": "code",
   "execution_count": 19,
   "id": "initial_id",
   "metadata": {
    "collapsed": true,
    "ExecuteTime": {
     "end_time": "2023-12-04T08:46:03.193883900Z",
     "start_time": "2023-12-04T08:46:03.111063100Z"
    }
   },
   "outputs": [
    {
     "name": "stdout",
     "output_type": "stream",
     "text": [
      "net0 = [ 1.  -2.   1.5  0. ] \t w0 = -1.0\n",
      "net1 = [-1.   0.5  2.   1.5] \t w1 = 0.0\n",
      "net2 = [0. 0. 0. 0.] \t w2 = 0.5\n",
      "f(net0) = [ 0.46211716 -0.76159416  0.63514895  0.        ] \t w0 = -1.0\n",
      "f(net1) = [-0.46211716  0.24491866  0.76159416  0.63514895] \t w1 = 0.0\n",
      "f(net2) = [0. 0. 0. 0.] \t w2 = 0.5\n"
     ]
    }
   ],
   "source": [
    "import numpy as np\n",
    "\n",
    "w = np.array([1, -1, 0, 0.5])\n",
    "\n",
    "x = np.array([\n",
    "    [1.0, -2.0,  1.5,  0.0],\n",
    "    [1.0, -0.5, -2.0, -1.5],\n",
    "    [0.0,  1.0, -1.0,  1.5],\n",
    "])\n",
    "\n",
    "def sigmoid(x):\n",
    "    return 2/(1+np.exp(-x))-1\n",
    "\n",
    "def f(net):\n",
    "    return sigmoid(net)\n",
    "\n",
    "for (i, xi) in enumerate(x):\n",
    "    net = np.dot(xi, w[i])\n",
    "    upw = w[i] + np.sign(net) * xi\n",
    "    np.append(w,upw)\n",
    "    print(f\"net{i} = {net} \\t w{i} = {w[i+1]}\")\n",
    "\n",
    "\n",
    "w = np.array([1, -1, 0, 0.5])\n",
    "\n",
    "for (i, xi) in enumerate(x):\n",
    "    net = np.dot(xi, w[i])\n",
    "    upw = w[i] + f(net) * xi\n",
    "    np.append(w,upw)\n",
    "    print(f\"f(net{i}) = {f(net)} \\t w{i} = {w[i+1]}\")"
   ]
  },
  {
   "cell_type": "markdown",
   "source": [
    "### Hebb exemplu 7"
   ],
   "metadata": {
    "collapsed": false
   },
   "id": "eccf907c9f3024db"
  },
  {
   "cell_type": "code",
   "execution_count": 20,
   "outputs": [
    {
     "name": "stdout",
     "output_type": "stream",
     "text": [
      "net0 = 3 \t w0 = [ 2 -3]\n",
      "net1 = -3 \t w1 = [ 2 -4]\n",
      "net2 = -8 \t w2 = [ 0 -7]\n",
      "net3 = 7 \t w3 = [ 1 -8]\n",
      "f(net0) = 0.9051482536448667 \t w0 = [ 1.90514825 -2.81029651]\n",
      "f(net1) = -0.886459396965212 \t w1 = [ 1.90514825 -3.6967559 ]\n",
      "f(net2) = -0.9986225385363923 \t w2 = [-0.09209682 -6.69262352]\n",
      "f(net3) = 0.9972843888349918 \t w3 = [ 0.90518757 -7.68990791]\n"
     ]
    }
   ],
   "source": [
    "x = np.array([\n",
    "    [1, -2],\n",
    "    [0, 1],\n",
    "    [2,3],\n",
    "    [1, -1],\n",
    "])\n",
    "\n",
    "\n",
    "w = [np.array([1, -1])]\n",
    "\n",
    "for (i, xi) in enumerate(x):\n",
    "    net = np.dot(xi, w[i])\n",
    "    upw = w[i] + np.sign(net) * xi\n",
    "    w.append(upw)\n",
    "    print(f\"net{i} = {net} \\t w{i} = {w[i+1]}\")\n",
    "\n",
    "w = [np.array([1, -1])]\n",
    "\n",
    "for (i, xi) in enumerate(x):\n",
    "    net = np.dot(xi, w[i])\n",
    "    upw = w[i] + f(net) * xi\n",
    "    w.append(upw)\n",
    "    print(f\"f(net{i}) = {f(net)} \\t w{i} = {w[i+1]}\")"
   ],
   "metadata": {
    "collapsed": false,
    "ExecuteTime": {
     "end_time": "2023-12-04T08:46:03.195978800Z",
     "start_time": "2023-12-04T08:46:03.156234100Z"
    }
   },
   "id": "f06b18b4a86a54a1"
  }
 ],
 "metadata": {
  "kernelspec": {
   "display_name": "Python 3",
   "language": "python",
   "name": "python3"
  },
  "language_info": {
   "codemirror_mode": {
    "name": "ipython",
    "version": 2
   },
   "file_extension": ".py",
   "mimetype": "text/x-python",
   "name": "python",
   "nbconvert_exporter": "python",
   "pygments_lexer": "ipython2",
   "version": "2.7.6"
  }
 },
 "nbformat": 4,
 "nbformat_minor": 5
}
