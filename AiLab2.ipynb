{
 "cells": [
  {
   "cell_type": "markdown",
   "source": [
    "### 1. Produsul scalar"
   ],
   "metadata": {
    "collapsed": false
   },
   "id": "d1977323d84b818c"
  },
  {
   "cell_type": "code",
   "execution_count": 21,
   "id": "initial_id",
   "metadata": {
    "collapsed": true,
    "ExecuteTime": {
     "end_time": "2023-11-19T10:38:21.618157400Z",
     "start_time": "2023-11-19T10:38:21.584777600Z"
    }
   },
   "outputs": [
    {
     "name": "stdout",
     "output_type": "stream",
     "text": [
      "Dot Product: 9 \n",
      "Magnitude for x:3.0 and y:4.242640687119285\n",
      "Cos between x and y:0.7071067811865476\n"
     ]
    }
   ],
   "source": [
    "import numpy as np\n",
    "\n",
    "\n",
    "x = [2, 1, 2]\n",
    "y = [1,-1, 4]\n",
    "\n",
    "\n",
    "dot_product = np.dot(x,y)\n",
    "x_magnitude = np.linalg.norm(x)\n",
    "y_magnitude = np.linalg.norm(y)\n",
    "cosxy = dot_product / (x_magnitude*y_magnitude)\n",
    "print(f\"Dot Product: {dot_product} \")\n",
    "print(f\"Magnitude for x:{x_magnitude} and y:{y_magnitude}\")\n",
    "print(f\"Cos between x and y:{cosxy}\")\n",
    "\n",
    "\n"
   ]
  },
  {
   "cell_type": "markdown",
   "source": [
    "### 2. Clasificatorul realizat cu o singură unitate"
   ],
   "metadata": {
    "collapsed": false
   },
   "id": "ac5ace12f2d0c696"
  },
  {
   "cell_type": "code",
   "execution_count": 22,
   "outputs": [
    {
     "name": "stdout",
     "output_type": "stream",
     "text": [
      "vertex [-1, -1, -1]: class -1\n",
      "vertex [-1, -1, 1]: class -1\n",
      "vertex [-1, 1, -1]: class -1\n",
      "vertex [-1, 1, 1]: class 1\n",
      "vertex [1, -1, -1]: class -1\n",
      "vertex [1, -1, 1]: class 1\n",
      "vertex [1, 1, -1]: class 1\n",
      "vertex [1, 1, 1]: class 1\n"
     ]
    }
   ],
   "source": [
    "weights = [1, 1, 1]\n",
    "\n",
    "pct_cub = [\n",
    "    [-1, -1, -1],\n",
    "    [-1, -1, 1],\n",
    "    [-1, 1, -1],\n",
    "    [-1, 1, 1],\n",
    "    [1, -1, -1],\n",
    "    [1, -1, 1],\n",
    "    [1, 1, -1],\n",
    "    [1, 1, 1],\n",
    "]\n",
    "\n",
    "def sgn(x):\n",
    "    if x >= 0:\n",
    "        return 1\n",
    "    if x < 0:\n",
    "        return -1\n",
    "\n",
    "for vtx in pct_cub:\n",
    "    print(str.format(\"vertex {}: class {}\", vtx, sgn(np.dot(vtx, weights))))"
   ],
   "metadata": {
    "collapsed": false,
    "ExecuteTime": {
     "end_time": "2023-11-19T10:38:21.619159600Z",
     "start_time": "2023-11-19T10:38:21.593559300Z"
    }
   },
   "id": "3f3252bdc3b15887"
  },
  {
   "cell_type": "markdown",
   "source": [
    "### 3. Neuronul"
   ],
   "metadata": {
    "collapsed": false
   },
   "id": "3ec8607894c27545"
  },
  {
   "cell_type": "code",
   "execution_count": 23,
   "outputs": [
    {
     "name": "stdout",
     "output_type": "stream",
     "text": [
      "Valori #0: 0\n",
      "Valori #1: 0\n",
      "Valori #2: 1\n",
      "Valori #3: 1\n",
      "Valori #4: 0\n",
      "Prediction Rate: 80.0%\n"
     ]
    }
   ],
   "source": [
    "weights = [-0.14, 0.06, -0.28, -0.93, -0.08, 0.28, -0.64, 0.47, -0.85]\n",
    "\n",
    "\n",
    "values = [\n",
    "    [\n",
    "        1,1,1,\n",
    "        1,0,1,\n",
    "        1,1,1,\n",
    "    ],\n",
    "    [\n",
    "        0,1,0,\n",
    "        1,0,1,\n",
    "        0,1,0,\n",
    "    ],\n",
    "    [\n",
    "        0,1,0,\n",
    "        0,1,0,\n",
    "        0,1,0,\n",
    "    ],\n",
    "    [\n",
    "        1,1,0,\n",
    "        0,1,0,\n",
    "        0,1,0,\n",
    "    ],\n",
    "    [\n",
    "        0,1,1,\n",
    "        0,1,0,\n",
    "        0,1,1,\n",
    "    ],\n",
    "]\n",
    "\n",
    "expected = [0, 0, 1, 1, 1]\n",
    "\n",
    "results = [int(np.heaviside(np.dot(v, weights), 0)) for v in values]\n",
    "rate = sum(\n",
    "    [\n",
    "        1 if r == e else 0\n",
    "        for (r,e) in zip(results, expected)\n",
    "    ]\n",
    ") / len(expected)\n",
    "\n",
    "for i,result in enumerate(results):\n",
    "    print(str.format(\"Valori #{}: {}\",i, result))\n",
    "print(f\"Prediction Rate: {rate*100}%\")\n"
   ],
   "metadata": {
    "collapsed": false,
    "ExecuteTime": {
     "end_time": "2023-11-19T10:38:21.620159200Z",
     "start_time": "2023-11-19T10:38:21.602766800Z"
    }
   },
   "id": "1449c4a7df8931ef"
  },
  {
   "cell_type": "markdown",
   "source": [
    "### 5.Retea memorie"
   ],
   "metadata": {
    "collapsed": false
   },
   "id": "982e38ebe91e5dd4"
  },
  {
   "cell_type": "code",
   "execution_count": 24,
   "outputs": [
    {
     "name": "stdout",
     "output_type": "stream",
     "text": [
      "current: [-1, -1, -1]\t| next: [-1, -1, -1]\t| final: False\n",
      "current: [-1, -1, 1]\t| next: [-1, -1, 1]\t| final: True\n",
      "current: [-1, 1, -1]\t| next: [-1, 1, -1]\t| final: False\n",
      "current: [-1, 1, 1]\t| next: [-1, 1, 1]\t| final: False\n",
      "current: [1, -1, -1]\t| next: [1, -1, -1]\t| final: False\n",
      "current: [1, -1, 1]\t| next: [1, -1, 1]\t| final: False\n",
      "current: [1, 1, -1]\t| next: [1, 1, -1]\t| final: True\n",
      "current: [1, 1, 1]\t| next: [1, 1, 1]\t| final: False\n"
     ]
    }
   ],
   "source": [
    "weights = [\n",
    "    [0, 1, -1],\n",
    "    [1, 0, -1],\n",
    "    [-1, -1, 0],\n",
    "]\n",
    "\n",
    "for c_values in pct_cub:\n",
    "    results = [np.sign(np.dot(w, c_values)) for w in weights]\n",
    "    mem_next = [result if result != 0 else c for (r, c) in zip(results, c_values)]\n",
    "    final = 0 not in results\n",
    "\n",
    "    print(f\"current: {c_values}\\t| next: {mem_next}\\t| final: {final}\")\n"
   ],
   "metadata": {
    "collapsed": false,
    "ExecuteTime": {
     "end_time": "2023-11-19T10:38:21.702188400Z",
     "start_time": "2023-11-19T10:38:21.610145900Z"
    }
   },
   "id": "b67edd9e3282cec6"
  }
 ],
 "metadata": {
  "kernelspec": {
   "display_name": "Python 3",
   "language": "python",
   "name": "python3"
  },
  "language_info": {
   "codemirror_mode": {
    "name": "ipython",
    "version": 2
   },
   "file_extension": ".py",
   "mimetype": "text/x-python",
   "name": "python",
   "nbconvert_exporter": "python",
   "pygments_lexer": "ipython2",
   "version": "2.7.6"
  }
 },
 "nbformat": 4,
 "nbformat_minor": 5
}
