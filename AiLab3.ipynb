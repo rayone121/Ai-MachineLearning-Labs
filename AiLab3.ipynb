{
 "cells": [
  {
   "cell_type": "code",
   "execution_count": 84,
   "outputs": [],
   "source": [
    "def gradient_func_1(x,learning_rate=0.01):\n",
    "    curent_value = x\n",
    "    previous_value = 0\n",
    "    while curent_value!=previous_value:\n",
    "        previous_value = curent_value\n",
    "        derivata=2*previous_value+3\n",
    "        curent_value = previous_value-(learning_rate*derivata)\n",
    "    return curent_value\n"
   ],
   "metadata": {
    "collapsed": false,
    "ExecuteTime": {
     "end_time": "2024-01-10T07:14:09.288270Z",
     "start_time": "2024-01-10T07:14:09.285233Z"
    }
   },
   "id": "8c6db81134981726"
  },
  {
   "cell_type": "code",
   "execution_count": 85,
   "outputs": [],
   "source": [
    "def gradient_func_2(x,y,learning_rate=0.01,err=0.0001):\n",
    "    curent_y = y\n",
    "    curent_x = x\n",
    "    prev_y = 0\n",
    "    prev_x = 0\n",
    "    while abs(curent_x-prev_x)>err or abs(curent_y-prev_y)>err:\n",
    "        prev_x = curent_x\n",
    "        prev_y = curent_y\n",
    "        dx = 2*prev_x\n",
    "        dy = 4*prev_y\n",
    "        curent_x = prev_x-(learning_rate*dx)\n",
    "        curent_y = prev_y-(learning_rate*dy)\n",
    "    v=[curent_x,curent_y]    \n",
    "    return v\n",
    "\n"
   ],
   "metadata": {
    "collapsed": false,
    "ExecuteTime": {
     "end_time": "2024-01-10T07:14:09.294820Z",
     "start_time": "2024-01-10T07:14:09.292812Z"
    }
   },
   "id": "fa07ba92c18b7536"
  },
  {
   "cell_type": "code",
   "execution_count": 108,
   "outputs": [
    {
     "ename": "OverflowError",
     "evalue": "(34, 'Result too large')",
     "output_type": "error",
     "traceback": [
      "\u001B[0;31m---------------------------------------------------------------------------\u001B[0m",
      "\u001B[0;31mOverflowError\u001B[0m                             Traceback (most recent call last)",
      "Cell \u001B[0;32mIn[108], line 19\u001B[0m\n\u001B[1;32m     16\u001B[0m         counter \u001B[38;5;241m+\u001B[39m\u001B[38;5;241m=\u001B[39m \u001B[38;5;241m1\u001B[39m\n\u001B[1;32m     17\u001B[0m     \u001B[38;5;28;01mreturn\u001B[39;00m [curent_x,curent_y,counter]\n\u001B[0;32m---> 19\u001B[0m gradient_func_3(\u001B[38;5;241m-\u001B[39m\u001B[38;5;241m5\u001B[39m,\u001B[38;5;241m6\u001B[39m)\n",
      "Cell \u001B[0;32mIn[108], line 12\u001B[0m, in \u001B[0;36mgradient_func_3\u001B[0;34m(x, y, learning_rate, err, counter)\u001B[0m\n\u001B[1;32m     10\u001B[0m prev_x \u001B[38;5;241m=\u001B[39m curent_x\n\u001B[1;32m     11\u001B[0m prev_y \u001B[38;5;241m=\u001B[39m curent_y\n\u001B[0;32m---> 12\u001B[0m dx \u001B[38;5;241m=\u001B[39m \u001B[38;5;241m2\u001B[39m\u001B[38;5;241m*\u001B[39m(\u001B[38;5;241m200\u001B[39m\u001B[38;5;241m*\u001B[39mcurent_x\u001B[38;5;241m*\u001B[39m\u001B[38;5;241m*\u001B[39m\u001B[38;5;241m3\u001B[39m\u001B[38;5;241m-\u001B[39m\u001B[38;5;241m200\u001B[39m\u001B[38;5;241m*\u001B[39mcurent_x\u001B[38;5;241m*\u001B[39mcurent_y\u001B[38;5;241m+\u001B[39mcurent_x\u001B[38;5;241m-\u001B[39m\u001B[38;5;241m1\u001B[39m)\n\u001B[1;32m     13\u001B[0m dy \u001B[38;5;241m=\u001B[39m \u001B[38;5;241m200\u001B[39m\u001B[38;5;241m*\u001B[39m(curent_y\u001B[38;5;241m-\u001B[39mcurent_x\u001B[38;5;241m*\u001B[39m\u001B[38;5;241m*\u001B[39m\u001B[38;5;241m2\u001B[39m)\n\u001B[1;32m     14\u001B[0m curent_x \u001B[38;5;241m=\u001B[39m prev_x\u001B[38;5;241m-\u001B[39m(learning_rate\u001B[38;5;241m*\u001B[39mdx)\n",
      "\u001B[0;31mOverflowError\u001B[0m: (34, 'Result too large')"
     ]
    }
   ],
   "source": [
    "\n",
    "\n",
    "def gradient_func_3(x,y,learning_rate=0.01,err=0.0001,counter=0):\n",
    "    curent_y = y\n",
    "    curent_x = x\n",
    "    prev_y = 0\n",
    "    prev_x = 0\n",
    "    breakpoint()\n",
    "    while abs(curent_x-prev_x)>err or abs(curent_y-prev_y)>err:\n",
    "        prev_x = curent_x\n",
    "        prev_y = curent_y\n",
    "        dx = 2*(200*curent_x**3-200*curent_x*curent_y+curent_x-1)\n",
    "        dy = 200*(curent_y-curent_x**2)\n",
    "        curent_x = prev_x-(learning_rate*dx)\n",
    "        curent_y = prev_y-(learning_rate*dy)\n",
    "        counter += 1\n",
    "    return [curent_x,curent_y,counter]\n",
    "\n",
    "gradient_func_3(-5,6) \n",
    "   "
   ],
   "metadata": {
    "collapsed": false,
    "ExecuteTime": {
     "end_time": "2024-01-10T07:20:53.763594Z",
     "start_time": "2024-01-10T07:20:53.743592Z"
    }
   },
   "id": "44ccdd2f6306245a"
  },
  {
   "cell_type": "code",
   "execution_count": 87,
   "outputs": [
    {
     "data": {
      "text/plain": "-1.4999999999999947"
     },
     "execution_count": 87,
     "metadata": {},
     "output_type": "execute_result"
    }
   ],
   "source": [
    "gradient_func_1(1)"
   ],
   "metadata": {
    "collapsed": false,
    "ExecuteTime": {
     "end_time": "2024-01-10T07:14:09.305897Z",
     "start_time": "2024-01-10T07:14:09.300036Z"
    }
   },
   "id": "b024bae1b2e15982"
  },
  {
   "cell_type": "code",
   "execution_count": 88,
   "outputs": [
    {
     "data": {
      "text/plain": "[0.004827074290412107, 2.0873992469060028e-05]"
     },
     "execution_count": 88,
     "metadata": {},
     "output_type": "execute_result"
    }
   ],
   "source": [
    "gradient_func_2(1,1)"
   ],
   "metadata": {
    "collapsed": false,
    "ExecuteTime": {
     "end_time": "2024-01-10T07:14:09.306281Z",
     "start_time": "2024-01-10T07:14:09.303626Z"
    }
   },
   "id": "691080fed19a9228"
  },
  {
   "cell_type": "code",
   "execution_count": 111,
   "outputs": [
    {
     "ename": "OverflowError",
     "evalue": "(34, 'Result too large')",
     "output_type": "error",
     "traceback": [
      "\u001B[0;31m---------------------------------------------------------------------------\u001B[0m",
      "\u001B[0;31mOverflowError\u001B[0m                             Traceback (most recent call last)",
      "Cell \u001B[0;32mIn[111], line 1\u001B[0m\n\u001B[0;32m----> 1\u001B[0m gradient_func_3(\u001B[38;5;241m-\u001B[39m\u001B[38;5;241m5\u001B[39m,\u001B[38;5;241m6\u001B[39m)\n",
      "Cell \u001B[0;32mIn[108], line 12\u001B[0m, in \u001B[0;36mgradient_func_3\u001B[0;34m(x, y, learning_rate, err, counter)\u001B[0m\n\u001B[1;32m     10\u001B[0m prev_x \u001B[38;5;241m=\u001B[39m curent_x\n\u001B[1;32m     11\u001B[0m prev_y \u001B[38;5;241m=\u001B[39m curent_y\n\u001B[0;32m---> 12\u001B[0m dx \u001B[38;5;241m=\u001B[39m \u001B[38;5;241m2\u001B[39m\u001B[38;5;241m*\u001B[39m(\u001B[38;5;241m200\u001B[39m\u001B[38;5;241m*\u001B[39mcurent_x\u001B[38;5;241m*\u001B[39m\u001B[38;5;241m*\u001B[39m\u001B[38;5;241m3\u001B[39m\u001B[38;5;241m-\u001B[39m\u001B[38;5;241m200\u001B[39m\u001B[38;5;241m*\u001B[39mcurent_x\u001B[38;5;241m*\u001B[39mcurent_y\u001B[38;5;241m+\u001B[39mcurent_x\u001B[38;5;241m-\u001B[39m\u001B[38;5;241m1\u001B[39m)\n\u001B[1;32m     13\u001B[0m dy \u001B[38;5;241m=\u001B[39m \u001B[38;5;241m200\u001B[39m\u001B[38;5;241m*\u001B[39m(curent_y\u001B[38;5;241m-\u001B[39mcurent_x\u001B[38;5;241m*\u001B[39m\u001B[38;5;241m*\u001B[39m\u001B[38;5;241m2\u001B[39m)\n\u001B[1;32m     14\u001B[0m curent_x \u001B[38;5;241m=\u001B[39m prev_x\u001B[38;5;241m-\u001B[39m(learning_rate\u001B[38;5;241m*\u001B[39mdx)\n",
      "\u001B[0;31mOverflowError\u001B[0m: (34, 'Result too large')"
     ]
    }
   ],
   "source": [
    "gradient_func_3(-5,6)"
   ],
   "metadata": {
    "collapsed": false,
    "ExecuteTime": {
     "end_time": "2024-01-10T07:21:10.596038Z",
     "start_time": "2024-01-10T07:21:10.578808Z"
    }
   },
   "id": "169b6ff5ad93f655"
  },
  {
   "cell_type": "code",
   "outputs": [],
   "source": [],
   "metadata": {
    "collapsed": false,
    "ExecuteTime": {
     "end_time": "2024-01-10T07:17:11.029811Z",
     "start_time": "2024-01-10T07:17:11.028204Z"
    }
   },
   "id": "2022227abdf437c5",
   "execution_count": 95
  }
 ],
 "metadata": {
  "kernelspec": {
   "display_name": "Python 3",
   "language": "python",
   "name": "python3"
  },
  "language_info": {
   "codemirror_mode": {
    "name": "ipython",
    "version": 2
   },
   "file_extension": ".py",
   "mimetype": "text/x-python",
   "name": "python",
   "nbconvert_exporter": "python",
   "pygments_lexer": "ipython2",
   "version": "2.7.6"
  }
 },
 "nbformat": 4,
 "nbformat_minor": 5
}
